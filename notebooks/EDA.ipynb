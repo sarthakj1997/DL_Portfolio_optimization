{
 "cells": [
  {
   "cell_type": "code",
   "execution_count": 1,
   "metadata": {},
   "outputs": [
    {
     "name": "stdout",
     "output_type": "stream",
     "text": [
      "c:\\Users\\Sarthak\\Documents\\GitHub\\port\n"
     ]
    }
   ],
   "source": [
    "%cd .."
   ]
  },
  {
   "cell_type": "code",
   "execution_count": 2,
   "metadata": {},
   "outputs": [],
   "source": [
    "import pandas as pd"
   ]
  },
  {
   "cell_type": "code",
   "execution_count": 3,
   "metadata": {},
   "outputs": [
    {
     "name": "stdout",
     "output_type": "stream",
     "text": [
      "Downloading data for AAPL\n"
     ]
    },
    {
     "name": "stderr",
     "output_type": "stream",
     "text": [
      "[*********************100%***********************]  1 of 1 completed\n",
      "[*********************100%***********************]  1 of 1 completed"
     ]
    },
    {
     "name": "stdout",
     "output_type": "stream",
     "text": [
      "Downloading data for MSFT\n"
     ]
    },
    {
     "name": "stderr",
     "output_type": "stream",
     "text": [
      "\n",
      "[*********************100%***********************]  1 of 1 completed"
     ]
    },
    {
     "name": "stdout",
     "output_type": "stream",
     "text": [
      "Downloading data for GOOGL\n"
     ]
    },
    {
     "name": "stderr",
     "output_type": "stream",
     "text": [
      "\n",
      "[*********************100%***********************]  1 of 1 completed"
     ]
    },
    {
     "name": "stdout",
     "output_type": "stream",
     "text": [
      "Downloading data for AMZN\n"
     ]
    },
    {
     "name": "stderr",
     "output_type": "stream",
     "text": [
      "\n",
      "[*********************100%***********************]  1 of 1 completed"
     ]
    },
    {
     "name": "stdout",
     "output_type": "stream",
     "text": [
      "Downloading data for META\n"
     ]
    },
    {
     "name": "stderr",
     "output_type": "stream",
     "text": [
      "\n"
     ]
    }
   ],
   "source": [
    "from src.data_sourcing import DataSourcing\n",
    "\n",
    "tickers = ['AAPL', 'MSFT', 'GOOGL', 'AMZN', 'META']\n",
    "start_date = '2015-01-01'\n",
    "end_date = '2021-12-31'\n",
    "\n",
    "data_sourcing = DataSourcing(tickers, start_date, end_date)\n",
    "data_sourcing.download_and_store_data()\n"
   ]
  },
  {
   "cell_type": "code",
   "execution_count": 4,
   "metadata": {},
   "outputs": [
    {
     "name": "stdout",
     "output_type": "stream",
     "text": [
      "Loading data for AAPL\n",
      "Loading data for MSFT\n",
      "Loading data for GOOGL\n",
      "Loading data for AMZN\n",
      "Loading data for META\n"
     ]
    }
   ],
   "source": [
    "\n",
    "from src.data_preprocessing import DataPreprocessing\n",
    "\n",
    "data_preprocessing = DataPreprocessing()\n",
    "raw_data = data_preprocessing.load_data(tickers)\n",
    "processed_data = data_preprocessing.preprocess_data(raw_data)\n",
    "\n",
    "# Save processed data to CSV for LSTM predictor\n",
    "for ticker, df in processed_data.items():\n",
    "    df.to_csv(f\"data/processed_data/{ticker}_processed.csv\")\n"
   ]
  },
  {
   "cell_type": "code",
   "execution_count": 5,
   "metadata": {},
   "outputs": [],
   "source": [
    "from src.sentiment_analysis import SentimentAnalysis\n",
    "\n",
    "sentiment_analysis = SentimentAnalysis(tickers)\n",
    "sentiment_analysis.analyze_and_store_sentiment()\n"
   ]
  },
  {
   "cell_type": "code",
   "execution_count": 6,
   "metadata": {},
   "outputs": [
    {
     "name": "stdout",
     "output_type": "stream",
     "text": [
      "Epoch 1/10\n",
      "82/82 [==============================] - 6s 37ms/step - loss: 0.0085\n",
      "Epoch 2/10\n",
      "82/82 [==============================] - 3s 37ms/step - loss: 0.0022\n",
      "Epoch 3/10\n",
      "82/82 [==============================] - 3s 37ms/step - loss: 0.0017\n",
      "Epoch 4/10\n",
      "82/82 [==============================] - 3s 38ms/step - loss: 0.0014\n",
      "Epoch 5/10\n",
      "82/82 [==============================] - 3s 37ms/step - loss: 0.0011\n",
      "Epoch 6/10\n",
      "82/82 [==============================] - 3s 36ms/step - loss: 0.0010\n",
      "Epoch 7/10\n",
      "82/82 [==============================] - 3s 36ms/step - loss: 0.0013\n",
      "Epoch 8/10\n",
      "82/82 [==============================] - 3s 36ms/step - loss: 9.2071e-04\n",
      "Epoch 9/10\n",
      "82/82 [==============================] - 3s 36ms/step - loss: 9.4236e-04\n",
      "Epoch 10/10\n",
      "82/82 [==============================] - 3s 37ms/step - loss: 9.1635e-04\n"
     ]
    },
    {
     "name": "stderr",
     "output_type": "stream",
     "text": [
      "c:\\Users\\Sarthak\\anaconda3\\envs\\port_opt\\lib\\site-packages\\keras\\src\\engine\\training.py:3000: UserWarning: You are saving your model as an HDF5 file via `model.save()`. This file format is considered legacy. We recommend using instead the native Keras format, e.g. `model.save('my_model.keras')`.\n",
      "  saving_api.save_model(\n"
     ]
    },
    {
     "name": "stdout",
     "output_type": "stream",
     "text": [
      "Epoch 1/10\n",
      "82/82 [==============================] - 6s 37ms/step - loss: 0.0074\n",
      "Epoch 2/10\n",
      "82/82 [==============================] - 3s 37ms/step - loss: 0.0020\n",
      "Epoch 3/10\n",
      "82/82 [==============================] - 3s 37ms/step - loss: 0.0017\n",
      "Epoch 4/10\n",
      "82/82 [==============================] - 3s 37ms/step - loss: 0.0014\n",
      "Epoch 5/10\n",
      "82/82 [==============================] - 3s 37ms/step - loss: 0.0012\n",
      "Epoch 6/10\n",
      "82/82 [==============================] - 3s 38ms/step - loss: 0.0011\n",
      "Epoch 7/10\n",
      "82/82 [==============================] - 3s 39ms/step - loss: 0.0010\n",
      "Epoch 8/10\n",
      "82/82 [==============================] - 3s 38ms/step - loss: 0.0010\n",
      "Epoch 9/10\n",
      "82/82 [==============================] - 3s 38ms/step - loss: 9.2034e-04\n",
      "Epoch 10/10\n",
      "82/82 [==============================] - 3s 37ms/step - loss: 9.8420e-04\n"
     ]
    },
    {
     "name": "stderr",
     "output_type": "stream",
     "text": [
      "c:\\Users\\Sarthak\\anaconda3\\envs\\port_opt\\lib\\site-packages\\keras\\src\\engine\\training.py:3000: UserWarning: You are saving your model as an HDF5 file via `model.save()`. This file format is considered legacy. We recommend using instead the native Keras format, e.g. `model.save('my_model.keras')`.\n",
      "  saving_api.save_model(\n"
     ]
    },
    {
     "name": "stdout",
     "output_type": "stream",
     "text": [
      "Epoch 1/10\n",
      "82/82 [==============================] - 6s 38ms/step - loss: 0.0076\n",
      "Epoch 2/10\n",
      "82/82 [==============================] - 3s 38ms/step - loss: 0.0019\n",
      "Epoch 3/10\n",
      "82/82 [==============================] - 3s 38ms/step - loss: 0.0016\n",
      "Epoch 4/10\n",
      "82/82 [==============================] - 3s 37ms/step - loss: 0.0016\n",
      "Epoch 5/10\n",
      "82/82 [==============================] - 3s 37ms/step - loss: 0.0011\n",
      "Epoch 6/10\n",
      "82/82 [==============================] - 3s 37ms/step - loss: 0.0011\n",
      "Epoch 7/10\n",
      "82/82 [==============================] - 3s 37ms/step - loss: 9.7876e-04\n",
      "Epoch 8/10\n",
      "82/82 [==============================] - 3s 37ms/step - loss: 0.0011\n",
      "Epoch 9/10\n",
      "82/82 [==============================] - 3s 37ms/step - loss: 8.7318e-04\n",
      "Epoch 10/10\n",
      "82/82 [==============================] - 3s 38ms/step - loss: 8.9355e-04\n"
     ]
    },
    {
     "name": "stderr",
     "output_type": "stream",
     "text": [
      "c:\\Users\\Sarthak\\anaconda3\\envs\\port_opt\\lib\\site-packages\\keras\\src\\engine\\training.py:3000: UserWarning: You are saving your model as an HDF5 file via `model.save()`. This file format is considered legacy. We recommend using instead the native Keras format, e.g. `model.save('my_model.keras')`.\n",
      "  saving_api.save_model(\n"
     ]
    },
    {
     "name": "stdout",
     "output_type": "stream",
     "text": [
      "Epoch 1/10\n",
      "82/82 [==============================] - 7s 47ms/step - loss: 0.0211\n",
      "Epoch 2/10\n",
      "82/82 [==============================] - 4s 45ms/step - loss: 0.0022\n",
      "Epoch 3/10\n",
      "82/82 [==============================] - 4s 43ms/step - loss: 0.0019\n",
      "Epoch 4/10\n",
      "82/82 [==============================] - 3s 42ms/step - loss: 0.0016\n",
      "Epoch 5/10\n",
      "82/82 [==============================] - 4s 43ms/step - loss: 0.0015\n",
      "Epoch 6/10\n",
      "82/82 [==============================] - 4s 43ms/step - loss: 0.0013\n",
      "Epoch 7/10\n",
      "82/82 [==============================] - 3s 42ms/step - loss: 0.0012\n",
      "Epoch 8/10\n",
      "82/82 [==============================] - 4s 43ms/step - loss: 0.0011\n",
      "Epoch 9/10\n",
      "82/82 [==============================] - 4s 43ms/step - loss: 9.6769e-04\n",
      "Epoch 10/10\n",
      "82/82 [==============================] - 4s 43ms/step - loss: 8.7482e-04\n"
     ]
    },
    {
     "name": "stderr",
     "output_type": "stream",
     "text": [
      "c:\\Users\\Sarthak\\anaconda3\\envs\\port_opt\\lib\\site-packages\\keras\\src\\engine\\training.py:3000: UserWarning: You are saving your model as an HDF5 file via `model.save()`. This file format is considered legacy. We recommend using instead the native Keras format, e.g. `model.save('my_model.keras')`.\n",
      "  saving_api.save_model(\n"
     ]
    },
    {
     "name": "stdout",
     "output_type": "stream",
     "text": [
      "Epoch 1/10\n",
      "82/82 [==============================] - 6s 38ms/step - loss: 0.0141\n",
      "Epoch 2/10\n",
      "82/82 [==============================] - 3s 38ms/step - loss: 0.0022\n",
      "Epoch 3/10\n",
      "82/82 [==============================] - 3s 39ms/step - loss: 0.0019\n",
      "Epoch 4/10\n",
      "82/82 [==============================] - 3s 40ms/step - loss: 0.0017\n",
      "Epoch 5/10\n",
      "82/82 [==============================] - 3s 40ms/step - loss: 0.0016\n",
      "Epoch 6/10\n",
      "82/82 [==============================] - 3s 38ms/step - loss: 0.0014\n",
      "Epoch 7/10\n",
      "82/82 [==============================] - 3s 38ms/step - loss: 0.0013\n",
      "Epoch 8/10\n",
      "82/82 [==============================] - 3s 40ms/step - loss: 0.0012\n",
      "Epoch 9/10\n",
      "82/82 [==============================] - 3s 39ms/step - loss: 0.0012\n",
      "Epoch 10/10\n",
      "82/82 [==============================] - 3s 39ms/step - loss: 0.0011\n"
     ]
    },
    {
     "name": "stderr",
     "output_type": "stream",
     "text": [
      "c:\\Users\\Sarthak\\anaconda3\\envs\\port_opt\\lib\\site-packages\\keras\\src\\engine\\training.py:3000: UserWarning: You are saving your model as an HDF5 file via `model.save()`. This file format is considered legacy. We recommend using instead the native Keras format, e.g. `model.save('my_model.keras')`.\n",
      "  saving_api.save_model(\n"
     ]
    }
   ],
   "source": [
    "from src.prediction.lstm_model import LSTMPredictor\n",
    "\n",
    "lstm_predictor = LSTMPredictor()\n",
    "for ticker in tickers:\n",
    "    lstm_predictor.train_model(ticker)\n"
   ]
  },
  {
   "cell_type": "code",
   "execution_count": 7,
   "metadata": {},
   "outputs": [],
   "source": [
    "# from src.prediction.generative_model import GenerativePredictor\n",
    "\n",
    "# # Prepare data for the generative model\n",
    "prices_df = pd.concat([processed_data[ticker]['adj_close'] for ticker in tickers], axis=1)\n",
    "\n",
    "prices_df.columns = tickers\n",
    "\n",
    "\n",
    "prices_df.dropna(inplace=True)\n",
    "\n",
    "# generative_predictor = GenerativePredictor(prices_df)\n",
    "# generative_predictor.train_model()\n",
    "# # generated_samples = generative_predictor.generate_predictions()\n",
    "# prices_df.head()"
   ]
  },
  {
   "cell_type": "code",
   "execution_count": 8,
   "metadata": {},
   "outputs": [
    {
     "data": {
      "text/html": [
       "<div>\n",
       "<style scoped>\n",
       "    .dataframe tbody tr th:only-of-type {\n",
       "        vertical-align: middle;\n",
       "    }\n",
       "\n",
       "    .dataframe tbody tr th {\n",
       "        vertical-align: top;\n",
       "    }\n",
       "\n",
       "    .dataframe thead th {\n",
       "        text-align: right;\n",
       "    }\n",
       "</style>\n",
       "<table border=\"1\" class=\"dataframe\">\n",
       "  <thead>\n",
       "    <tr style=\"text-align: right;\">\n",
       "      <th></th>\n",
       "      <th>AAPL</th>\n",
       "      <th>MSFT</th>\n",
       "      <th>GOOGL</th>\n",
       "      <th>AMZN</th>\n",
       "      <th>META</th>\n",
       "    </tr>\n",
       "    <tr>\n",
       "      <th>date</th>\n",
       "      <th></th>\n",
       "      <th></th>\n",
       "      <th></th>\n",
       "      <th></th>\n",
       "      <th></th>\n",
       "    </tr>\n",
       "  </thead>\n",
       "  <tbody>\n",
       "    <tr>\n",
       "      <th>2015-01-05</th>\n",
       "      <td>23.687307</td>\n",
       "      <td>39.862869</td>\n",
       "      <td>25.908844</td>\n",
       "      <td>15.1095</td>\n",
       "      <td>76.95829</td>\n",
       "    </tr>\n",
       "    <tr>\n",
       "      <th>2015-01-06</th>\n",
       "      <td>23.689533</td>\n",
       "      <td>39.277809</td>\n",
       "      <td>25.269430</td>\n",
       "      <td>14.7645</td>\n",
       "      <td>75.92141</td>\n",
       "    </tr>\n",
       "    <tr>\n",
       "      <th>2015-01-07</th>\n",
       "      <td>24.021715</td>\n",
       "      <td>39.776825</td>\n",
       "      <td>25.195114</td>\n",
       "      <td>14.9210</td>\n",
       "      <td>75.92141</td>\n",
       "    </tr>\n",
       "    <tr>\n",
       "      <th>2015-01-08</th>\n",
       "      <td>24.944687</td>\n",
       "      <td>40.946999</td>\n",
       "      <td>25.282896</td>\n",
       "      <td>15.0230</td>\n",
       "      <td>77.94532</td>\n",
       "    </tr>\n",
       "    <tr>\n",
       "      <th>2015-01-09</th>\n",
       "      <td>24.971436</td>\n",
       "      <td>40.602833</td>\n",
       "      <td>24.974159</td>\n",
       "      <td>14.8465</td>\n",
       "      <td>77.50663</td>\n",
       "    </tr>\n",
       "  </tbody>\n",
       "</table>\n",
       "</div>"
      ],
      "text/plain": [
       "                 AAPL       MSFT      GOOGL     AMZN      META\n",
       "date                                                          \n",
       "2015-01-05  23.687307  39.862869  25.908844  15.1095  76.95829\n",
       "2015-01-06  23.689533  39.277809  25.269430  14.7645  75.92141\n",
       "2015-01-07  24.021715  39.776825  25.195114  14.9210  75.92141\n",
       "2015-01-08  24.944687  40.946999  25.282896  15.0230  77.94532\n",
       "2015-01-09  24.971436  40.602833  24.974159  14.8465  77.50663"
      ]
     },
     "execution_count": 8,
     "metadata": {},
     "output_type": "execute_result"
    }
   ],
   "source": [
    "prices_df.head()"
   ]
  },
  {
   "cell_type": "code",
   "execution_count": 10,
   "metadata": {},
   "outputs": [],
   "source": [
    "from src.optimization.genetic_algorithm import GeneticAlgorithmOptimizer\n",
    "\n",
    "returns_df = prices_df.pct_change().dropna()\n",
    "expected_returns = returns_df.mean().values  # Or use predicted returns\n",
    "cov_matrix = returns_df.cov().values\n",
    "\n",
    "ga_optimizer = GeneticAlgorithmOptimizer(returns_df, expected_returns, cov_matrix)\n",
    "weights_ga = ga_optimizer.optimize()\n"
   ]
  },
  {
   "cell_type": "code",
   "execution_count": 15,
   "metadata": {},
   "outputs": [
    {
     "data": {
      "text/plain": [
       "array([[0.00054523, 0.00042754, 0.00038342, 0.00041569, 0.00039512],\n",
       "       [0.00042754, 0.00050816, 0.00041049, 0.00043553, 0.00039443],\n",
       "       [0.00038342, 0.00041049, 0.00046847, 0.00041414, 0.00039882],\n",
       "       [0.00041569, 0.00043553, 0.00041414, 0.00059464, 0.00042187],\n",
       "       [0.00039512, 0.00039443, 0.00039882, 0.00042187, 0.00056394]])"
      ]
     },
     "execution_count": 15,
     "metadata": {},
     "output_type": "execute_result"
    }
   ],
   "source": [
    "cov_matrix"
   ]
  },
  {
   "cell_type": "code",
   "execution_count": 11,
   "metadata": {},
   "outputs": [],
   "source": []
  },
  {
   "cell_type": "code",
   "execution_count": 13,
   "metadata": {},
   "outputs": [
    {
     "name": "stdout",
     "output_type": "stream",
     "text": [
      "The index labels in 'prices_df' are unique.\n"
     ]
    }
   ],
   "source": []
  }
 ],
 "metadata": {
  "kernelspec": {
   "display_name": "port_opt",
   "language": "python",
   "name": "python3"
  },
  "language_info": {
   "codemirror_mode": {
    "name": "ipython",
    "version": 3
   },
   "file_extension": ".py",
   "mimetype": "text/x-python",
   "name": "python",
   "nbconvert_exporter": "python",
   "pygments_lexer": "ipython3",
   "version": "3.8.20"
  }
 },
 "nbformat": 4,
 "nbformat_minor": 2
}
